{
 "cells": [
  {
   "cell_type": "markdown",
   "metadata": {},
   "source": [
    "<a id='pipeline'></a>\n",
    "\n",
    "#Pipeline Overview\n",
    "\n",
    "### Accessing the data in your algorithms & research\n",
    "The only method for accessing partner data within algorithms running on Quantopian is via the pipeline API. Different data sets work differently but in the case of this data, you can add this data to your pipeline as follows:\n",
    "\n",
    "Import the data set here\n",
    "> `from quantopian.pipeline.data.zacks import (`\n",
    "> `EarningsSurprises`\n",
    "> `)`\n",
    "\n",
    "Then in intialize() you could do something simple like adding the raw value of one of the fields to your pipeline:\n",
    "> `pipe.add(zacks.eps_mean_est.latest, 'EPS mean estimate')`"
   ]
  },
  {
   "cell_type": "code",
   "execution_count": 1,
   "metadata": {
    "collapsed": false
   },
   "outputs": [],
   "source": [
    "# Import necessary Pipeline modules\n",
    "import  quantopian.pipeline.data.morningstar as mstar\n",
    "from quantopian.pipeline import Pipeline  \n",
    "from quantopian.pipeline import CustomFactor  \n",
    "from quantopian.research import run_pipeline  \n",
    "from quantopian.pipeline.data import morningstar  \n",
    "from quantopian.pipeline.data.builtin import USEquityPricing  \n",
    "from  quantopian.pipeline.filters import StaticAssets\n",
    "import numpy as np\n",
    "import talib\n",
    "from statsmodels import regression\n",
    "import statsmodels.api as sm\n",
    "import math as m\n",
    "import  quantopian.pipeline.filters\n",
    "from quantopian.pipeline.filters.morningstar import Q1500US"
   ]
  },
  {
   "cell_type": "code",
   "execution_count": 2,
   "metadata": {
    "collapsed": false
   },
   "outputs": [],
   "source": [
    "class Beta(CustomFactor):\n",
    "    \n",
    "    # Set the default list of inputs as well as the default window_length.\n",
    "    # Default values are used if the optional parameters are not specified.\n",
    "    inputs = [USEquityPricing.close] \n",
    "    window_length = 100\n",
    "\n",
    "    # Any calculation can be performed here and is applied to all stocks\n",
    "    # in the universe.\n",
    "    def compute(self, today, assets, out, close):\n",
    "        \n",
    "        benchmark_index = np.where((assets == 8554) == True)[0][0]\n",
    "        \n",
    "        benchmark_p = close[:, benchmark_index]\n",
    "        log_benchmark_p = np.log(benchmark_p)\n",
    "        log_benchmark_r = np.diff(log_benchmark_p)[1:]\n",
    "        benchmark_r = 1 - np.exp(log_benchmark_r)\n",
    "        X = benchmark_r\n",
    "        X = sm.add_constant(X)\n",
    "        \n",
    "        for i in range(len(assets)):\n",
    "            p = close[:, i]\n",
    "            log_p = np.log(p)\n",
    "            log_r = np.diff(log_p)[1:]\n",
    "            r = 1 - np.exp(log_r)\n",
    "            Y = r\n",
    "            \n",
    "            model = regression.linear_model.OLS(Y, X).fit()\n",
    "            \n",
    "            alpha, beta = model.params\n",
    "            \n",
    "            out[i] = beta"
   ]
  },
  {
   "cell_type": "code",
   "execution_count": 3,
   "metadata": {
    "collapsed": false
   },
   "outputs": [],
   "source": [
    "class MarketCap(CustomFactor):   \n",
    "    \n",
    "    # Pre-declare inputs and window_length\n",
    "    inputs = [USEquityPricing.close, mstar.valuation.shares_outstanding] \n",
    "    window_length = 1\n",
    "    \n",
    "    # Compute market cap value\n",
    "    def compute(self, today, assets, out, close, shares):       \n",
    "        out[:] = close[-1] * shares[-1]"
   ]
  },
  {
   "cell_type": "code",
   "execution_count": 4,
   "metadata": {
    "collapsed": false
   },
   "outputs": [],
   "source": [
    "class ExtremeAccruals(CustomFactor):   \n",
    "    \n",
    "    # Pre-declare inputs and window_length\n",
    "    inputs = [mstar.cash_flow_statement.net_income, mstar.cash_flow_statement.operating_cash_flow, mstar.balance_sheet.total_assets] \n",
    "    window_length = 1\n",
    "    \n",
    "    # Compute market cap value\n",
    "    def compute(self, today, assets, out, income, cash_flow, total_assets):       \n",
    "        out[:] = (income[-1] - cash_flow[-1])/total_assets[-1]"
   ]
  },
  {
   "cell_type": "code",
   "execution_count": 5,
   "metadata": {
    "collapsed": false
   },
   "outputs": [],
   "source": [
    "class OperatingAssets(CustomFactor):   \n",
    "    \n",
    "    # Pre-declare inputs and window_length\n",
    "    #\n",
    "    inputs = [mstar.balance_sheet.cash_and_cash_equivalents, mstar.balance_sheet.accounts_receivable, mstar.balance_sheet.inventory, mstar.balance_sheet.prepaid_assets, mstar.cash_flow_statement.deferred_tax, mstar.balance_sheet.gross_ppe, mstar.balance_sheet.goodwill_and_other_intangible_assets] \n",
    "    window_length = 1\n",
    "    #Operating Assets = Cash + Total Receivables + Inventories + Prepaid Expenses + Deferred Taxes + Net PP&E \n",
    "    # + Goodwill and Intangibles\n",
    "    \n",
    "    \n",
    "    def compute(self, today, assets, out, cash, receivables, inventories, prepaid, deferred, ppe, goodwill):\n",
    "        args = np.concatenate([cash , receivables , inventories , prepaid , deferred, ppe , goodwill])\n",
    "        for i in range(len(assets)):\n",
    "            p = np.nan_to_num(args[:, i])\n",
    "            \n",
    "            \n",
    "            \n",
    "            \n",
    "            out[i] = np.sum(p)\n",
    "        \n",
    "        \n",
    "        "
   ]
  },
  {
   "cell_type": "code",
   "execution_count": 6,
   "metadata": {
    "collapsed": false
   },
   "outputs": [
    {
     "name": "stdout",
     "output_type": "stream",
     "text": [
      "46.0\n"
     ]
    }
   ],
   "source": [
    "args = [1, 2, 3, 4, 5, 6, 7, 8 ,np.nan, 10]\n",
    "cleanArgs = np.nan_to_num(args)\n",
    "print (np.sum(cleanArgs))"
   ]
  },
  {
   "cell_type": "code",
   "execution_count": 7,
   "metadata": {
    "collapsed": false
   },
   "outputs": [],
   "source": [
    "class TotalAssets(CustomFactor):   \n",
    "    #Must wrap this up in a custom factor to be able to combine with others\n",
    "    # Pre-declare inputs and window_length\n",
    "    inputs = [mstar.balance_sheet.total_assets] \n",
    "    window_length = 1\n",
    "    \n",
    "    # Compute market cap value\n",
    "    def compute(self, today, assets, out, ta):       \n",
    "        out[:] = ta[-1]"
   ]
  },
  {
   "cell_type": "code",
   "execution_count": 8,
   "metadata": {
    "collapsed": true
   },
   "outputs": [],
   "source": [
    "class OperatingLiabilities(CustomFactor):   \n",
    "    \n",
    "    # Pre-declare inputs and window_length\n",
    "    #Want to do this from first principles to avoid glossing over any malfeasance.\n",
    "    inputs = [mstar.balance_sheet.accounts_payable, mstar.balance_sheet.current_accrued_expenses, mstar.balance_sheet.income_tax_payable] \n",
    "    window_length = 1\n",
    "    #accounts payable, accrued expenses, and income tax payable\n",
    "    def compute(self, today, assets, out, ap, expenses, tax):       \n",
    "        args = np.concatenate([ap , expenses , tax])\n",
    "        for i in range(len(assets)):\n",
    "            p = np.nan_to_num(args[:, i])\n",
    "            \n",
    "            \n",
    "            \n",
    "            \n",
    "            out[i] = np.sum(p)"
   ]
  },
  {
   "cell_type": "code",
   "execution_count": 9,
   "metadata": {
    "collapsed": true
   },
   "outputs": [],
   "source": [
    "class LastYearRatio(CustomFactor):   \n",
    "    \n",
    "    # Pre-declare inputs and window_length\n",
    "    #\n",
    "    \n",
    "    window_length = 252\n",
    "    \n",
    "    def compute(self, today, assets, out, ratio):       \n",
    "        out[:] = ratio[-1] / ratio[0]\n",
    "            \n",
    "            \n",
    "            \n",
    "            \n",
    "            "
   ]
  },
  {
   "cell_type": "code",
   "execution_count": 10,
   "metadata": {
    "collapsed": true
   },
   "outputs": [],
   "source": [
    "class LastYearToThisYearRatio(CustomFactor):   \n",
    "    \n",
    "    # Pre-declare inputs and window_length\n",
    "    #\n",
    "    \n",
    "    window_length = 252\n",
    "    \n",
    "    def compute(self, today, assets, out, ratio):       \n",
    "        out[:] = ratio[0] / ratio[-1]"
   ]
  },
  {
   "cell_type": "code",
   "execution_count": 11,
   "metadata": {
    "collapsed": false
   },
   "outputs": [],
   "source": [
    "class DEPI(CustomFactor):   \n",
    "    \n",
    "    # Pre-declare inputs and window_length\n",
    "    #\n",
    "    inputs = [mstar.balance_sheet.net_ppe, mstar.income_statement.depreciation_amortization_depletion]  \n",
    "    window_length = 456\n",
    "    \n",
    "    def compute(self, today, assets, out, ppe, depreciation):       \n",
    "        out[:] = (depreciation[0]/(depreciation[0] + ppe[0]))/(depreciation[-1]/(depreciation[-1] + ppe[-1]))"
   ]
  },
  {
   "cell_type": "code",
   "execution_count": 12,
   "metadata": {
    "collapsed": false
   },
   "outputs": [],
   "source": [
    "class AQI(CustomFactor):   \n",
    "    #Asset quality index. Ratio of asset quality from this year to last year.\n",
    "    # Pre-declare inputs and window_length\n",
    "    #current assets, net ppe, \n",
    "    inputs = [mstar.balance_sheet.current_assets, mstar.balance_sheet.net_ppe, mstar.balance_sheet.total_assets]  \n",
    "    window_length = 252\n",
    "    \n",
    "    def compute(self, today, assets, out, current_assets, net_ppe, total_assets):       \n",
    "        aqi = (1 - (current_assets[-1] + net_ppe[-1]) / total_assets[-1])  \n",
    "        aqi = aqi / (1 - (current_assets[0] + net_ppe[0]) / total_assets[0])  \n",
    "        out[:] = aqi"
   ]
  },
  {
   "cell_type": "markdown",
   "metadata": {},
   "source": [
    "Now that we've imported the data, let's take a look at which fields are available for each dataset.\n",
    "\n",
    "You'll find the dataset, the available fields, and the datatypes for each of those fields."
   ]
  },
  {
   "cell_type": "code",
   "execution_count": 13,
   "metadata": {
    "collapsed": false
   },
   "outputs": [
    {
     "name": "stdout",
     "output_type": "stream",
     "text": [
      "Here are the list of available fields per dataset:\n",
      "---------------------------------------------------\n",
      "\n",
      "---------------------------------------------------\n",
      "\n"
     ]
    }
   ],
   "source": [
    "print \"Here are the list of available fields per dataset:\"\n",
    "print \"---------------------------------------------------\\n\"\n",
    "\n",
    "def _print_fields(dataset):\n",
    "    print \"Dataset: %s\\n\" % dataset.__name__\n",
    "    print \"Fields:\"\n",
    "    for field in list(dataset.columns):\n",
    "        print \"%s - %s\" % (field.name, field.dtype)\n",
    "    print \"\\n\"\n",
    "\n",
    "#for data in (EarningsSurprises):\n",
    " #   _print_fields(data)\n",
    "\n",
    "\n",
    "print \"---------------------------------------------------\\n\"\n"
   ]
  },
  {
   "cell_type": "code",
   "execution_count": 14,
   "metadata": {
    "collapsed": true
   },
   "outputs": [],
   "source": [
    "class Previous(CustomFactor):   \n",
    "    \n",
    "    # Pre-declare inputs and window_length\n",
    "    #\n",
    "    \n",
    "    window_length = 252\n",
    "    \n",
    "    def compute(self, today, assets, out, arr):       \n",
    "        out[:] = arr[0]\n",
    "            "
   ]
  },
  {
   "cell_type": "code",
   "execution_count": 15,
   "metadata": {
    "collapsed": false
   },
   "outputs": [],
   "source": [
    "class Ratio(CustomFactor):   \n",
    "    \n",
    "    # Pre-declare inputs and window_length\n",
    "    #total assets, working capital,  , sales, retained earnings, EBIT, shares outstanding, close price, liabilities \n",
    "    \n",
    "    window_length = 1\n",
    "    \n",
    "    def compute(self, today, assets, out, top, bottom):       \n",
    "        out[:] = top[-1]/bottom[-1]"
   ]
  },
  {
   "cell_type": "code",
   "execution_count": 16,
   "metadata": {
    "collapsed": true
   },
   "outputs": [],
   "source": [
    "class MarketCapToTotalLiabilities(CustomFactor):   \n",
    "    \n",
    "    # Pre-declare inputs and window_length\n",
    "    #total assets, working capital,  , sales, retained earnings, EBIT, shares outstanding, close price, liabilities \n",
    "    inputs = [mstar.valuation.shares_outstanding, USEquityPricing.close, mstar.balance_sheet.total_liabilities]\n",
    "    window_length = 1\n",
    "    \n",
    "    def compute(self, today, assets, out,  shares, price, liabilities):       \n",
    "        out[:] =(shares[-1] * price[-1])/ liabilities[-1]"
   ]
  },
  {
   "cell_type": "code",
   "execution_count": 17,
   "metadata": {
    "collapsed": true
   },
   "outputs": [],
   "source": [
    "class Piotroski(CustomFactor):\n",
    "    inputs = [\n",
    "        mstar.operation_ratios.roa,\n",
    "        mstar.cash_flow_statement.operating_cash_flow,\n",
    "        mstar.cash_flow_statement.cash_flow_from_continuing_operating_activities,\n",
    "        \n",
    "        mstar.operation_ratios.long_term_debt_equity_ratio,\n",
    "        mstar.operation_ratios.current_ratio,\n",
    "        mstar.valuation.shares_outstanding,\n",
    "        \n",
    "        mstar.operation_ratios.gross_margin,\n",
    "        mstar.operation_ratios.assets_turnover,\n",
    "    ]\n",
    "    window_length = 252\n",
    "    \n",
    "    def compute(self, today, assets, out,\n",
    "                roa, cash_flow, cash_flow_from_ops,\n",
    "                long_term_debt_ratio, current_ratio, shares_outstanding,\n",
    "                gross_margin, assets_turnover):\n",
    "        profit = (\n",
    "            (roa[-1] > 0).astype(int) +\n",
    "            (cash_flow[-1] > 0).astype(int) +\n",
    "            (roa[-1] > roa[0]).astype(int) +\n",
    "            (cash_flow_from_ops[-1] > roa[-1]).astype(int)\n",
    "        )\n",
    "        \n",
    "        leverage = (\n",
    "            (long_term_debt_ratio[-1] < long_term_debt_ratio[0]).astype(int) +\n",
    "            (current_ratio[-1] > current_ratio[0]).astype(int) + \n",
    "            (shares_outstanding[-1] <= shares_outstanding[0]).astype(int)\n",
    "        )\n",
    "        \n",
    "        operating = (\n",
    "            (gross_margin[-1] > gross_margin[0]).astype(int) +\n",
    "            (assets_turnover[-1] > assets_turnover[0]).astype(int)\n",
    "        )\n",
    "        \n",
    "        out[:] = profit + leverage + operating"
   ]
  },
  {
   "cell_type": "markdown",
   "metadata": {},
   "source": [
    "Now that we know what fields we have access to, let's see what this data looks like when we run it through Pipeline.\n",
    "\n",
    "\n",
    "This is constructed the same way as you would in the backtester. For more information on using Pipeline in Research view this thread:\n",
    "https://www.quantopian.com/posts/pipeline-in-research-build-test-and-visualize-your-factors-and-filters"
   ]
  },
  {
   "cell_type": "code",
   "execution_count": 18,
   "metadata": {
    "collapsed": false
   },
   "outputs": [],
   "source": [
    "def make_pipeline():\n",
    "    \"\"\"\n",
    "    Create and return our pipeline.\n",
    "    \n",
    "    We break this piece of logic out into its own function to make it easier to\n",
    "    test and modify in isolation.\n",
    "    \"\"\"\n",
    "    #sue= StandardUnexpectedEarnings()\n",
    "    \n",
    "    #initial_screen = filter_universe()\n",
    "    #ncav = NetCurrentAssetValue()\n",
    "    #custFactor, custFactorAvg = OBV() \n",
    "    \n",
    "    #Too high is bad\n",
    "    #dsri, aqi, sgi, depi, sgi\n",
    "    \n",
    "    dsri = LastYearRatio(inputs = [mstar.operation_ratios.receivable_turnover])\n",
    "    gmi = LastYearToThisYearRatio(inputs = [mstar.operation_ratios.gross_margin])\n",
    "    depi = DEPI()\n",
    "    \n",
    "    aqi = AQI()\n",
    "    sgi = LastYearRatio(inputs = [mstar.operation_ratios.revenue_growth])\n",
    "    \n",
    "    depLastYear = Previous(inputs = [mstar.income_statement.depreciation_amortization_depletion], window_length=456)\n",
    "    netPPELastYear = Previous(inputs = [morningstar.balance_sheet.net_ppe], window_length = 456)\n",
    "    \n",
    "    ol = OperatingLiabilities()\n",
    "    \n",
    "    mScore  = -6.065 + 0.823*dsri + 0.906*gmi + 0.593*aqi + 0.717*sgi + 0.107*depi  \n",
    "    remove_NaN =  mScore.eq(mScore)\n",
    "    \n",
    "    static_assets = StaticAssets(symbols(['TXRH', 'AAPL', 'SHLD', 'WMT']))\n",
    "    ea = ExtremeAccruals()\n",
    "    acceptableAccruals = ea.percentile_between(0, 95, mask=Q1500US())\n",
    "    #Balance sheet bloat = cumulative difference between accounting value added and cash value added.\n",
    "    #Too high is bad.\n",
    "    balanceSheetBloat = (OperatingAssets() - OperatingLiabilities()) /  TotalAssets()\n",
    "    acceptableBalanceSheet = balanceSheetBloat.percentile_between(0,95, mask=acceptableAccruals)\n",
    "    acceptableMScore = (remove_NaN & mScore.percentile_between(0,95, mask=acceptableBalanceSheet))\n",
    "    \n",
    "    #z-score\n",
    "    \n",
    "    A = Ratio(inputs = [mstar.balance_sheet.working_capital, mstar.balance_sheet.total_assets])\n",
    "    B = Ratio(inputs = [mstar.balance_sheet.retained_earnings, mstar.balance_sheet.total_assets])\n",
    "    C = Ratio(inputs = [mstar.income_statement.ebit, mstar.balance_sheet.total_assets])\n",
    "    D = MarketCapToTotalLiabilities()\n",
    "    E = Ratio(inputs = [mstar.income_statement.total_revenue, mstar.balance_sheet.total_assets])\n",
    "    zScore = 1.2 * A + 1.4 * B + 3.3 * C + 0.6 * D + 1.0 *E\n",
    "    #z-score:  Too low is bad\n",
    "    acceptableZScore = zScore.percentile_between(5,100, mask=acceptableMScore)\n",
    "    \n",
    "    ebitTev =  Ratio(inputs = [mstar.income_statement.ebit, mstar.valuation.enterprise_value ])\n",
    "    bargainBin = ebitTev.percentile_between(90,100, mask=acceptableZScore)\n",
    "    \n",
    "    pScore = Piotroski()\n",
    "    goodPScore = bargainBin & (pScore > 5)\n",
    "    #currentEarnings = CurrentEarningsGrowth()\n",
    "    pipe = Pipeline(\n",
    "        columns = {\n",
    "            #'Extreme Accruals' : ea,\n",
    "            \n",
    "            'Total assets': mstar.balance_sheet.total_assets.latest,\n",
    "            'Working capital': mstar.balance_sheet.working_capital.latest,\n",
    "            'Z-score' : zScore,\n",
    "            'EBIT/TEV': ebitTev,\n",
    "            'Piotroski' : pScore\n",
    "            \n",
    "            \n",
    "            #'M-Score': mScore\n",
    "            #'Income tax payable': mstar.balance_sheet.income_tax_payable.latest,\n",
    "            #'Accrued liabilities' : mstar.balance_sheet.current_accrued_expenses.latest\n",
    "            #'Balance sheet bloat': balanceSheetBloat\n",
    "           \n",
    "            \n",
    "            \n",
    "           \n",
    "             \n",
    "           \n",
    "            \n",
    "        }, screen=goodPScore)\n",
    "    \n",
    "    return pipe\n",
    "\n",
    "pipe = make_pipeline()\n",
    "\n",
    "   \n",
    "\n",
    "    \n",
    "    "
   ]
  },
  {
   "cell_type": "code",
   "execution_count": 21,
   "metadata": {
    "collapsed": false
   },
   "outputs": [],
   "source": [
    "# run_pipeline will show the output of your pipeline\n",
    "\n",
    "pipe_output = run_pipeline(pipe, start_date='2017-12-28', end_date='2017-12-28')\n",
    "\n"
   ]
  },
  {
   "cell_type": "code",
   "execution_count": 28,
   "metadata": {
    "collapsed": false
   },
   "outputs": [
    {
     "data": {
      "text/html": [
       "<div>\n",
       "<table border=\"1\" class=\"dataframe\">\n",
       "  <thead>\n",
       "    <tr style=\"text-align: right;\">\n",
       "      <th></th>\n",
       "      <th></th>\n",
       "      <th>EBIT/TEV</th>\n",
       "      <th>Piotroski</th>\n",
       "      <th>Total assets</th>\n",
       "      <th>Working capital</th>\n",
       "      <th>Z-score</th>\n",
       "    </tr>\n",
       "  </thead>\n",
       "  <tbody>\n",
       "    <tr>\n",
       "      <th rowspan=\"13\" valign=\"top\">2017-12-28 00:00:00+00:00</th>\n",
       "      <th>Equity(2618 [ESRX])</th>\n",
       "      <td>0.027670</td>\n",
       "      <td>8.0</td>\n",
       "      <td>5.120620e+10</td>\n",
       "      <td>-4.677800e+09</td>\n",
       "      <td>1.572150</td>\n",
       "    </tr>\n",
       "    <tr>\n",
       "      <th>Equity(3321 [GPS])</th>\n",
       "      <td>0.028707</td>\n",
       "      <td>9.0</td>\n",
       "      <td>7.895000e+09</td>\n",
       "      <td>1.887000e+09</td>\n",
       "      <td>3.109457</td>\n",
       "    </tr>\n",
       "    <tr>\n",
       "      <th>Equity(5551 [NYT])</th>\n",
       "      <td>0.024698</td>\n",
       "      <td>8.0</td>\n",
       "      <td>2.238958e+09</td>\n",
       "      <td>3.490910e+08</td>\n",
       "      <td>2.687268</td>\n",
       "    </tr>\n",
       "    <tr>\n",
       "      <th>Equity(5626 [OI])</th>\n",
       "      <td>0.024647</td>\n",
       "      <td>8.0</td>\n",
       "      <td>9.999000e+09</td>\n",
       "      <td>4.900000e+08</td>\n",
       "      <td>0.573451</td>\n",
       "    </tr>\n",
       "    <tr>\n",
       "      <th>Equity(6077 [PNM])</th>\n",
       "      <td>0.026038</td>\n",
       "      <td>8.0</td>\n",
       "      <td>6.697254e+09</td>\n",
       "      <td>-3.363500e+08</td>\n",
       "      <td>0.613462</td>\n",
       "    </tr>\n",
       "    <tr>\n",
       "      <th>Equity(7530 [TOL])</th>\n",
       "      <td>0.028836</td>\n",
       "      <td>9.0</td>\n",
       "      <td>9.445225e+09</td>\n",
       "      <td>6.308653e+09</td>\n",
       "      <td>2.677670</td>\n",
       "    </tr>\n",
       "    <tr>\n",
       "      <th>Equity(8050 [VSH])</th>\n",
       "      <td>0.043132</td>\n",
       "      <td>8.0</td>\n",
       "      <td>3.334254e+09</td>\n",
       "      <td>1.632365e+09</td>\n",
       "      <td>1.862856</td>\n",
       "    </tr>\n",
       "    <tr>\n",
       "      <th>Equity(8132 [WDC])</th>\n",
       "      <td>0.030341</td>\n",
       "      <td>8.0</td>\n",
       "      <td>3.050500e+10</td>\n",
       "      <td>7.351000e+09</td>\n",
       "      <td>1.760483</td>\n",
       "    </tr>\n",
       "    <tr>\n",
       "      <th>Equity(8863 [RCL])</th>\n",
       "      <td>0.024731</td>\n",
       "      <td>8.0</td>\n",
       "      <td>2.209931e+10</td>\n",
       "      <td>-4.258960e+09</td>\n",
       "      <td>1.904681</td>\n",
       "    </tr>\n",
       "    <tr>\n",
       "      <th>Equity(17991 [CAR])</th>\n",
       "      <td>0.028705</td>\n",
       "      <td>8.0</td>\n",
       "      <td>1.987300e+10</td>\n",
       "      <td>5.270000e+08</td>\n",
       "      <td>0.261155</td>\n",
       "    </tr>\n",
       "    <tr>\n",
       "      <th>Equity(24692 [CCL])</th>\n",
       "      <td>0.025029</td>\n",
       "      <td>8.0</td>\n",
       "      <td>4.064300e+10</td>\n",
       "      <td>-6.308000e+09</td>\n",
       "      <td>2.604889</td>\n",
       "    </tr>\n",
       "    <tr>\n",
       "      <th>Equity(24833 [FLR])</th>\n",
       "      <td>0.026778</td>\n",
       "      <td>8.0</td>\n",
       "      <td>9.193527e+09</td>\n",
       "      <td>1.971320e+09</td>\n",
       "      <td>2.142672</td>\n",
       "    </tr>\n",
       "    <tr>\n",
       "      <th>Equity(41594 [AMCX])</th>\n",
       "      <td>0.027785</td>\n",
       "      <td>8.0</td>\n",
       "      <td>4.890764e+09</td>\n",
       "      <td>1.110936e+09</td>\n",
       "      <td>1.118184</td>\n",
       "    </tr>\n",
       "  </tbody>\n",
       "</table>\n",
       "</div>"
      ],
      "text/plain": [
       "                                                EBIT/TEV  Piotroski  \\\n",
       "2017-12-28 00:00:00+00:00 Equity(2618 [ESRX])   0.027670        8.0   \n",
       "                          Equity(3321 [GPS])    0.028707        9.0   \n",
       "                          Equity(5551 [NYT])    0.024698        8.0   \n",
       "                          Equity(5626 [OI])     0.024647        8.0   \n",
       "                          Equity(6077 [PNM])    0.026038        8.0   \n",
       "                          Equity(7530 [TOL])    0.028836        9.0   \n",
       "                          Equity(8050 [VSH])    0.043132        8.0   \n",
       "                          Equity(8132 [WDC])    0.030341        8.0   \n",
       "                          Equity(8863 [RCL])    0.024731        8.0   \n",
       "                          Equity(17991 [CAR])   0.028705        8.0   \n",
       "                          Equity(24692 [CCL])   0.025029        8.0   \n",
       "                          Equity(24833 [FLR])   0.026778        8.0   \n",
       "                          Equity(41594 [AMCX])  0.027785        8.0   \n",
       "\n",
       "                                                Total assets  Working capital  \\\n",
       "2017-12-28 00:00:00+00:00 Equity(2618 [ESRX])   5.120620e+10    -4.677800e+09   \n",
       "                          Equity(3321 [GPS])    7.895000e+09     1.887000e+09   \n",
       "                          Equity(5551 [NYT])    2.238958e+09     3.490910e+08   \n",
       "                          Equity(5626 [OI])     9.999000e+09     4.900000e+08   \n",
       "                          Equity(6077 [PNM])    6.697254e+09    -3.363500e+08   \n",
       "                          Equity(7530 [TOL])    9.445225e+09     6.308653e+09   \n",
       "                          Equity(8050 [VSH])    3.334254e+09     1.632365e+09   \n",
       "                          Equity(8132 [WDC])    3.050500e+10     7.351000e+09   \n",
       "                          Equity(8863 [RCL])    2.209931e+10    -4.258960e+09   \n",
       "                          Equity(17991 [CAR])   1.987300e+10     5.270000e+08   \n",
       "                          Equity(24692 [CCL])   4.064300e+10    -6.308000e+09   \n",
       "                          Equity(24833 [FLR])   9.193527e+09     1.971320e+09   \n",
       "                          Equity(41594 [AMCX])  4.890764e+09     1.110936e+09   \n",
       "\n",
       "                                                 Z-score  \n",
       "2017-12-28 00:00:00+00:00 Equity(2618 [ESRX])   1.572150  \n",
       "                          Equity(3321 [GPS])    3.109457  \n",
       "                          Equity(5551 [NYT])    2.687268  \n",
       "                          Equity(5626 [OI])     0.573451  \n",
       "                          Equity(6077 [PNM])    0.613462  \n",
       "                          Equity(7530 [TOL])    2.677670  \n",
       "                          Equity(8050 [VSH])    1.862856  \n",
       "                          Equity(8132 [WDC])    1.760483  \n",
       "                          Equity(8863 [RCL])    1.904681  \n",
       "                          Equity(17991 [CAR])   0.261155  \n",
       "                          Equity(24692 [CCL])   2.604889  \n",
       "                          Equity(24833 [FLR])   2.142672  \n",
       "                          Equity(41594 [AMCX])  1.118184  "
      ]
     },
     "execution_count": 28,
     "metadata": {},
     "output_type": "execute_result"
    }
   ],
   "source": [
    "pipe_output.loc[pipe_output['Piotroski'] > 7]\n"
   ]
  },
  {
   "cell_type": "code",
   "execution_count": 25,
   "metadata": {
    "collapsed": true
   },
   "outputs": [],
   "source": [
    "def filter_universe():  \n",
    "    \"\"\"\n",
    "    11 filters:\n",
    "        1. common stock\n",
    "        2 & 3. not limited partnership - name and database check\n",
    "        4. database has fundamental data\n",
    "        5. not over the counter\n",
    "        6. not when issued\n",
    "        7. not depository receipts\n",
    "        8. primary share\n",
    "        9. high dollar volume\n",
    "        10. Not a financial or utility stock\n",
    "        11. We have the latest earnings data\n",
    "    Check Scott's notebook for more details.\n",
    "    \"\"\"\n",
    "    market_cap = MarketCap()\n",
    "    \n",
    "    mask = market_cap.top(3000)\n",
    "    \n",
    "    return mask\n",
    "\n",
    "    "
   ]
  },
  {
   "cell_type": "code",
   "execution_count": 20,
   "metadata": {
    "collapsed": false
   },
   "outputs": [
    {
     "ename": "RuntimeError",
     "evalue": "Error(s) while rendering graph: add_segment: error\nadd_segment: error\nadd_segment: error\nadd_segment: error\n",
     "output_type": "error",
     "traceback": [
      "\u001b[0;31m\u001b[0m",
      "\u001b[0;31mRuntimeError\u001b[0mTraceback (most recent call last)",
      "\u001b[0;32m<ipython-input-20-68036a9b3d46>\u001b[0m in \u001b[0;36m<module>\u001b[0;34m()\u001b[0m\n\u001b[1;32m      1\u001b[0m \u001b[0;31m# The show_graph() method of pipeline objects produces a graph to show how it is being calculated.\u001b[0m\u001b[0;34m\u001b[0m\u001b[0;34m\u001b[0m\u001b[0m\n\u001b[0;32m----> 2\u001b[0;31m \u001b[0mpipe\u001b[0m\u001b[0;34m.\u001b[0m\u001b[0mshow_graph\u001b[0m\u001b[0;34m(\u001b[0m\u001b[0mformat\u001b[0m\u001b[0;34m=\u001b[0m\u001b[0;34m'png'\u001b[0m\u001b[0;34m)\u001b[0m\u001b[0;34m\u001b[0m\u001b[0m\n\u001b[0m",
      "\u001b[0;32m/build/src/qexec_repo/zipline_repo/zipline/pipeline/pipeline.py\u001b[0m in \u001b[0;36mshow_graph\u001b[0;34m(self, format)\u001b[0m\n\u001b[1;32m    210\u001b[0m     \u001b[0;32mdef\u001b[0m \u001b[0mshow_graph\u001b[0m\u001b[0;34m(\u001b[0m\u001b[0mself\u001b[0m\u001b[0;34m,\u001b[0m \u001b[0mformat\u001b[0m\u001b[0;34m=\u001b[0m\u001b[0;34m'svg'\u001b[0m\u001b[0;34m)\u001b[0m\u001b[0;34m:\u001b[0m\u001b[0;34m\u001b[0m\u001b[0m\n\u001b[1;32m    211\u001b[0m         \"\"\"\n\u001b[0;32m--> 212\u001b[0;31m         \u001b[0mRender\u001b[0m \u001b[0mthis\u001b[0m \u001b[0mPipeline\u001b[0m \u001b[0;32mas\u001b[0m \u001b[0ma\u001b[0m \u001b[0mDAG\u001b[0m\u001b[0;34m.\u001b[0m\u001b[0;34m\u001b[0m\u001b[0m\n\u001b[0m\u001b[1;32m    213\u001b[0m \u001b[0;34m\u001b[0m\u001b[0m\n\u001b[1;32m    214\u001b[0m         \u001b[0mParameters\u001b[0m\u001b[0;34m\u001b[0m\u001b[0m\n",
      "\u001b[0;32m/build/src/qexec_repo/zipline_repo/zipline/pipeline/pipeline.pyc\u001b[0m in \u001b[0;36mshow_graph\u001b[0;34m(self, format)\u001b[0m\n\u001b[1;32m    221\u001b[0m             \u001b[0;32mreturn\u001b[0m \u001b[0mg\u001b[0m\u001b[0;34m.\u001b[0m\u001b[0msvg\u001b[0m\u001b[0;34m\u001b[0m\u001b[0m\n\u001b[1;32m    222\u001b[0m         \u001b[0;32melif\u001b[0m \u001b[0mformat\u001b[0m \u001b[0;34m==\u001b[0m \u001b[0;34m'png'\u001b[0m\u001b[0;34m:\u001b[0m\u001b[0;34m\u001b[0m\u001b[0m\n\u001b[0;32m--> 223\u001b[0;31m             \u001b[0;32mreturn\u001b[0m \u001b[0mg\u001b[0m\u001b[0;34m.\u001b[0m\u001b[0mpng\u001b[0m\u001b[0;34m\u001b[0m\u001b[0m\n\u001b[0m\u001b[1;32m    224\u001b[0m         \u001b[0;32melif\u001b[0m \u001b[0mformat\u001b[0m \u001b[0;34m==\u001b[0m \u001b[0;34m'jpeg'\u001b[0m\u001b[0;34m:\u001b[0m\u001b[0;34m\u001b[0m\u001b[0m\n\u001b[1;32m    225\u001b[0m             \u001b[0;32mreturn\u001b[0m \u001b[0mg\u001b[0m\u001b[0;34m.\u001b[0m\u001b[0mjpeg\u001b[0m\u001b[0;34m\u001b[0m\u001b[0m\n",
      "\u001b[0;32m/build/src/qexec_repo/zipline_repo/zipline/utils/memoize.pyc\u001b[0m in \u001b[0;36m__get__\u001b[0;34m(self, instance, owner)\u001b[0m\n\u001b[1;32m     51\u001b[0m             \u001b[0;32mreturn\u001b[0m \u001b[0mself\u001b[0m\u001b[0;34m.\u001b[0m\u001b[0m_cache\u001b[0m\u001b[0;34m[\u001b[0m\u001b[0minstance\u001b[0m\u001b[0;34m]\u001b[0m\u001b[0;34m\u001b[0m\u001b[0m\n\u001b[1;32m     52\u001b[0m         \u001b[0;32mexcept\u001b[0m \u001b[0mKeyError\u001b[0m\u001b[0;34m:\u001b[0m\u001b[0;34m\u001b[0m\u001b[0m\n\u001b[0;32m---> 53\u001b[0;31m             \u001b[0mself\u001b[0m\u001b[0;34m.\u001b[0m\u001b[0m_cache\u001b[0m\u001b[0;34m[\u001b[0m\u001b[0minstance\u001b[0m\u001b[0;34m]\u001b[0m \u001b[0;34m=\u001b[0m \u001b[0mval\u001b[0m \u001b[0;34m=\u001b[0m \u001b[0mself\u001b[0m\u001b[0;34m.\u001b[0m\u001b[0m_get\u001b[0m\u001b[0;34m(\u001b[0m\u001b[0minstance\u001b[0m\u001b[0;34m)\u001b[0m\u001b[0;34m\u001b[0m\u001b[0m\n\u001b[0m\u001b[1;32m     54\u001b[0m             \u001b[0;32mreturn\u001b[0m \u001b[0mval\u001b[0m\u001b[0;34m\u001b[0m\u001b[0m\n\u001b[1;32m     55\u001b[0m \u001b[0;34m\u001b[0m\u001b[0m\n",
      "\u001b[0;32m/build/src/qexec_repo/zipline_repo/zipline/pipeline/graph.pyc\u001b[0m in \u001b[0;36mpng\u001b[0;34m(self)\u001b[0m\n\u001b[1;32m    120\u001b[0m     \u001b[0;34m@\u001b[0m\u001b[0mlazyval\u001b[0m\u001b[0;34m\u001b[0m\u001b[0m\n\u001b[1;32m    121\u001b[0m     \u001b[0;32mdef\u001b[0m \u001b[0mpng\u001b[0m\u001b[0;34m(\u001b[0m\u001b[0mself\u001b[0m\u001b[0;34m)\u001b[0m\u001b[0;34m:\u001b[0m\u001b[0;34m\u001b[0m\u001b[0m\n\u001b[0;32m--> 122\u001b[0;31m         \u001b[0;32mreturn\u001b[0m \u001b[0mdisplay_graph\u001b[0m\u001b[0;34m(\u001b[0m\u001b[0mself\u001b[0m\u001b[0;34m,\u001b[0m \u001b[0;34m'png'\u001b[0m\u001b[0;34m)\u001b[0m\u001b[0;34m\u001b[0m\u001b[0m\n\u001b[0m\u001b[1;32m    123\u001b[0m \u001b[0;34m\u001b[0m\u001b[0m\n\u001b[1;32m    124\u001b[0m     \u001b[0;34m@\u001b[0m\u001b[0mlazyval\u001b[0m\u001b[0;34m\u001b[0m\u001b[0m\n",
      "\u001b[0;32m/build/src/qexec_repo/zipline_repo/zipline/pipeline/visualize.pyc\u001b[0m in \u001b[0;36mdisplay_graph\u001b[0;34m(g, format, include_asset_exists)\u001b[0m\n\u001b[1;32m    165\u001b[0m \u001b[0;34m\u001b[0m\u001b[0m\n\u001b[1;32m    166\u001b[0m     \u001b[0mout\u001b[0m \u001b[0;34m=\u001b[0m \u001b[0mBytesIO\u001b[0m\u001b[0;34m(\u001b[0m\u001b[0;34m)\u001b[0m\u001b[0;34m\u001b[0m\u001b[0m\n\u001b[0;32m--> 167\u001b[0;31m     \u001b[0m_render\u001b[0m\u001b[0;34m(\u001b[0m\u001b[0mg\u001b[0m\u001b[0;34m,\u001b[0m \u001b[0mout\u001b[0m\u001b[0;34m,\u001b[0m \u001b[0mformat\u001b[0m\u001b[0;34m,\u001b[0m \u001b[0minclude_asset_exists\u001b[0m\u001b[0;34m=\u001b[0m\u001b[0minclude_asset_exists\u001b[0m\u001b[0;34m)\u001b[0m\u001b[0;34m\u001b[0m\u001b[0m\n\u001b[0m\u001b[1;32m    168\u001b[0m     \u001b[0;32mreturn\u001b[0m \u001b[0mdisplay_cls\u001b[0m\u001b[0;34m(\u001b[0m\u001b[0mdata\u001b[0m\u001b[0;34m=\u001b[0m\u001b[0mout\u001b[0m\u001b[0;34m.\u001b[0m\u001b[0mgetvalue\u001b[0m\u001b[0;34m(\u001b[0m\u001b[0;34m)\u001b[0m\u001b[0;34m)\u001b[0m\u001b[0;34m\u001b[0m\u001b[0m\n\u001b[1;32m    169\u001b[0m \u001b[0;34m\u001b[0m\u001b[0m\n",
      "\u001b[0;32m/build/src/qexec_repo/zipline_repo/zipline/pipeline/visualize.pyc\u001b[0m in \u001b[0;36m_render\u001b[0;34m(g, out, format_, include_asset_exists)\u001b[0m\n\u001b[1;32m    144\u001b[0m     \u001b[0;32mif\u001b[0m \u001b[0mproc_stderr\u001b[0m\u001b[0;34m:\u001b[0m\u001b[0;34m\u001b[0m\u001b[0m\n\u001b[1;32m    145\u001b[0m         raise RuntimeError(\n\u001b[0;32m--> 146\u001b[0;31m             \u001b[0;34m\"Error(s) while rendering graph: %s\"\u001b[0m \u001b[0;34m%\u001b[0m \u001b[0mproc_stderr\u001b[0m\u001b[0;34m.\u001b[0m\u001b[0mdecode\u001b[0m\u001b[0;34m(\u001b[0m\u001b[0;34m'utf-8'\u001b[0m\u001b[0;34m)\u001b[0m\u001b[0;34m\u001b[0m\u001b[0m\n\u001b[0m\u001b[1;32m    147\u001b[0m         )\n\u001b[1;32m    148\u001b[0m \u001b[0;34m\u001b[0m\u001b[0m\n",
      "\u001b[0;31mRuntimeError\u001b[0m: Error(s) while rendering graph: add_segment: error\nadd_segment: error\nadd_segment: error\nadd_segment: error\n"
     ]
    }
   ],
   "source": [
    "# The show_graph() method of pipeline objects produces a graph to show how it is being calculated.\n",
    "pipe.show_graph(format='png')"
   ]
  },
  {
   "cell_type": "code",
   "execution_count": 55,
   "metadata": {
    "collapsed": true
   },
   "outputs": [],
   "source": [
    "pipe_output.filter?"
   ]
  }
 ],
 "metadata": {
  "kernelspec": {
   "display_name": "Python 2",
   "language": "python",
   "name": "python2"
  },
  "language_info": {
   "codemirror_mode": {
    "name": "ipython",
    "version": 2
   },
   "file_extension": ".py",
   "mimetype": "text/x-python",
   "name": "python",
   "nbconvert_exporter": "python",
   "pygments_lexer": "ipython2",
   "version": "2.7.12"
  }
 },
 "nbformat": 4,
 "nbformat_minor": 0
}